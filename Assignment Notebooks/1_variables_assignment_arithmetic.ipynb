{
 "cells": [
  {
   "cell_type": "markdown",
   "id": "bacdc7bd",
   "metadata": {},
   "source": [
    "## COSC 1210\n",
    "### Variables, Assignment, Arithmetic\n",
    "\n",
    "Objectives\n",
    "- understand conventions of variable names\n",
    "- describe how variable assignment works\n",
    "- do basic arithmetic "
   ]
  },
  {
   "cell_type": "markdown",
   "id": "650ea2a6",
   "metadata": {},
   "source": [
    "Important terms\n",
    "\n",
    "- expression: a combination of values, variables, operators, and function calls that the Python interpreter can evaluate to produce a single value\n",
    "\n",
    "\n",
    "5 + 5\n",
    "\n",
    "a * b\n",
    "\n",
    "10 > 5\n",
    "\n",
    "\n",
    "- statement: complete instruction that the Python interpreter can execute to perform an action\n",
    "\n",
    "\n",
    "b = 5 + 5 # assignment statement\n",
    "\n",
    "if 10 > 5:\n",
    "\n",
    "    do something\n",
    "\n",
    "    = \"is assigned to\"\n",
    "    == \"is equivalent to\"\n",
    "\n",
    "    b = 10\n",
    "    How does the following expression evaluate? \n",
    "    b == 5+5 #evaluates to True \n"
   ]
  },
  {
   "cell_type": "code",
   "execution_count": 2,
   "id": "f496def3",
   "metadata": {},
   "outputs": [
    {
     "name": "stdout",
     "output_type": "stream",
     "text": [
      "True\n"
     ]
    }
   ],
   "source": [
    "# anything to the right of a hashtag is ignored by the processor\n",
    "# 1 + 1\n",
    "# signal that the computer should ignore this text\n",
    "# this is for a human reader\n",
    "\n",
    "b = 10 \n",
    "print(b==5+5)\n",
    " \n",
    "\n"
   ]
  },
  {
   "cell_type": "markdown",
   "id": "3e44c008",
   "metadata": {},
   "source": [
    "*Variable naming conventions* \n",
    "**Variable naming conventions**\n",
    "\n",
    "\n",
    "A variable name can ...\n",
    "* characters A-Z a-z\n",
    "* Numbers 0-9 BUT it can't start with a number\n",
    "* use a underscore _ \n",
    "e.g. Avalue, value2, value_2, Value_2\n",
    "\n",
    "A variable name cannot ...\n",
    "*can't start with a number\n",
    "* can't have special characters like (*&^%$#@!)\n",
    "* can't use reserved words (for, while, if, print, input, is, list, ...)\n",
    "\n",
    "Types of varibale names\n",
    "snake_case_is_like_this\n",
    "CamelCaseIsLikeThis\n",
    "but_thereAreNoRules\n",
    "\n",
    "\n"
   ]
  },
  {
   "cell_type": "code",
   "execution_count": 1,
   "id": "2b45b592",
   "metadata": {},
   "outputs": [
    {
     "name": "stdout",
     "output_type": "stream",
     "text": [
      "10\n",
      "8\n"
     ]
    }
   ],
   "source": [
    "# Variable names and Assignment\n",
    "\n",
    "# What is the value of a and b after the following statements are evaluated?\n",
    "\n",
    "a = 10\n",
    "b = 8\n",
    "#b = a\n",
    "print(a)\n",
    "print(b)\n",
    "\n"
   ]
  },
  {
   "cell_type": "markdown",
   "id": "3f8bf308",
   "metadata": {},
   "source": [
    "*Arithmetic operators in python* \n",
    "\n",
    "- addition +\n",
    "- subtraction -\n",
    "- multiplication *\n",
    "- division /\n",
    "- floor division //\n",
    "- modulus operator %\n",
    "- exponentiation **"
   ]
  },
  {
   "cell_type": "code",
   "execution_count": 4,
   "id": "eb0359da",
   "metadata": {},
   "outputs": [
    {
     "name": "stdout",
     "output_type": "stream",
     "text": [
      "10 (5+5)\n",
      "20 (5*4)\n",
      "-5 (10-5*3)\n",
      "10.0 (100/10)\n",
      "3 (10//3)\n",
      "1 (10&3)\n",
      "4 (2**2)\n"
     ]
    }
   ],
   "source": [
    "# Arithmetic\n",
    "# Give examples expressions with each type of arithmetic operator\n",
    "\n",
    "# Note - to see the value of the expressions, simply put your expression in a print() function to see them displayed below\n",
    "print(5+5, \"(5+5)\")\n",
    "\n",
    "print(5*4, \"(5*4)\")\n",
    "print(10-5*3,\"(10-5*3)\")\n",
    "print(100/10,\"(100/10)\")\n",
    "print(10//3,\"(10//3)\")\n",
    "print(10%3,\"(10&3)\")\n",
    "print(2**2,\"(2**2)\")\n",
    "\n"
   ]
  },
  {
   "cell_type": "markdown",
   "id": "77ae01b8",
   "metadata": {},
   "source": [
    "#### Four Fours\n",
    "\n",
    "Calculate the numbers 0 to 10 with four number 4s. You must include four fours, and only four fours\n",
    "\n",
    "e.g., \n",
    "\n",
    "print(4 + 4 - 4 + 4, \" is 0\") # this is correct!\n",
    "\n",
    "print(4 - 4, \" is 0\") # incorrect! You only used two fours\n"
   ]
  },
  {
   "cell_type": "code",
   "execution_count": 20,
   "id": "e55221cf",
   "metadata": {},
   "outputs": [],
   "source": [
    "# Four Fours"
   ]
  }
 ],
 "metadata": {
  "kernelspec": {
   "display_name": "Python 3",
   "language": "python",
   "name": "python3"
  },
  "language_info": {
   "codemirror_mode": {
    "name": "ipython",
    "version": 3
   },
   "file_extension": ".py",
   "mimetype": "text/x-python",
   "name": "python",
   "nbconvert_exporter": "python",
   "pygments_lexer": "ipython3",
   "version": "3.13.7"
  }
 },
 "nbformat": 4,
 "nbformat_minor": 5
}
